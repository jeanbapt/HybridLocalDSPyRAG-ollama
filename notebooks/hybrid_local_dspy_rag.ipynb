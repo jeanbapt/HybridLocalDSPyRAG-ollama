{
 "cells": [
  {
   "cell_type": "markdown",
   "id": "103972b0",
   "metadata": {},
   "source": []
  },
  {
   "cell_type": "markdown",
   "id": "c55c7a1e",
   "metadata": {},
   "source": [
    "# Hybrid Local DSPy RAG with Ollama\n",
    "\n",
    "This notebook implements a French RAG (Retrieval-Augmented Generation) system using:\n",
    "- Hybrid retrieval (CamemBERT + BM25)\n",
    "- DSPy for orchestration\n",
    "- Mistral via Ollama for language generation\n",
    "- Metal (MPS) acceleration for Mac\n",
    "- MLX for optimized computation"
   ]
  },
  {
   "cell_type": "code",
   "execution_count": 1,
   "id": "f57ac3a0",
   "metadata": {},
   "outputs": [
    {
     "name": "stdout",
     "output_type": "stream",
     "text": [
      "Collecting mlx\n",
      "  Using cached mlx-0.24.1-cp312-cp312-macosx_14_0_arm64.whl.metadata (5.3 kB)\n",
      "\u001b[31mERROR: Could not find a version that satisfies the requirement mlx-torch (from versions: none)\u001b[0m\u001b[31m\n",
      "\u001b[0m\u001b[31mERROR: No matching distribution found for mlx-torch\u001b[0m\u001b[31m\n",
      "\u001b[0mCollecting sentencepiece==0.1.99\n",
      "  Using cached sentencepiece-0.1.99-cp312-cp312-macosx_14_0_arm64.whl\n",
      "Installing collected packages: sentencepiece\n",
      "Successfully installed sentencepiece-0.1.99\n",
      "Collecting ollama\n",
      "  Using cached ollama-0.4.7-py3-none-any.whl.metadata (4.7 kB)\n",
      "Requirement already satisfied: httpx<0.29,>=0.27 in /Users/jeanbapt/HybridLocalDSPyRAG-ollama/venv/lib/python3.12/site-packages (from ollama) (0.28.1)\n",
      "Requirement already satisfied: pydantic<3.0.0,>=2.9.0 in /Users/jeanbapt/HybridLocalDSPyRAG-ollama/venv/lib/python3.12/site-packages (from ollama) (2.11.1)\n",
      "Requirement already satisfied: anyio in /Users/jeanbapt/HybridLocalDSPyRAG-ollama/venv/lib/python3.12/site-packages (from httpx<0.29,>=0.27->ollama) (4.9.0)\n",
      "Requirement already satisfied: certifi in /Users/jeanbapt/HybridLocalDSPyRAG-ollama/venv/lib/python3.12/site-packages (from httpx<0.29,>=0.27->ollama) (2025.1.31)\n",
      "Requirement already satisfied: httpcore==1.* in /Users/jeanbapt/HybridLocalDSPyRAG-ollama/venv/lib/python3.12/site-packages (from httpx<0.29,>=0.27->ollama) (1.0.7)\n",
      "Requirement already satisfied: idna in /Users/jeanbapt/HybridLocalDSPyRAG-ollama/venv/lib/python3.12/site-packages (from httpx<0.29,>=0.27->ollama) (3.10)\n",
      "Requirement already satisfied: h11<0.15,>=0.13 in /Users/jeanbapt/HybridLocalDSPyRAG-ollama/venv/lib/python3.12/site-packages (from httpcore==1.*->httpx<0.29,>=0.27->ollama) (0.14.0)\n",
      "Requirement already satisfied: annotated-types>=0.6.0 in /Users/jeanbapt/HybridLocalDSPyRAG-ollama/venv/lib/python3.12/site-packages (from pydantic<3.0.0,>=2.9.0->ollama) (0.7.0)\n",
      "Requirement already satisfied: pydantic-core==2.33.0 in /Users/jeanbapt/HybridLocalDSPyRAG-ollama/venv/lib/python3.12/site-packages (from pydantic<3.0.0,>=2.9.0->ollama) (2.33.0)\n",
      "Requirement already satisfied: typing-extensions>=4.12.2 in /Users/jeanbapt/HybridLocalDSPyRAG-ollama/venv/lib/python3.12/site-packages (from pydantic<3.0.0,>=2.9.0->ollama) (4.13.0)\n",
      "Requirement already satisfied: typing-inspection>=0.4.0 in /Users/jeanbapt/HybridLocalDSPyRAG-ollama/venv/lib/python3.12/site-packages (from pydantic<3.0.0,>=2.9.0->ollama) (0.4.0)\n",
      "Requirement already satisfied: sniffio>=1.1 in /Users/jeanbapt/HybridLocalDSPyRAG-ollama/venv/lib/python3.12/site-packages (from anyio->httpx<0.29,>=0.27->ollama) (1.3.1)\n",
      "Using cached ollama-0.4.7-py3-none-any.whl (13 kB)\n",
      "Installing collected packages: ollama\n",
      "Successfully installed ollama-0.4.7\n",
      "Requirement already satisfied: dspy-ai in /Users/jeanbapt/HybridLocalDSPyRAG-ollama/venv/lib/python3.12/site-packages (2.6.16)\n",
      "Requirement already satisfied: dspy>=2.6.5 in /Users/jeanbapt/HybridLocalDSPyRAG-ollama/venv/lib/python3.12/site-packages (from dspy-ai) (2.6.16)\n",
      "Requirement already satisfied: backoff>=2.2 in /Users/jeanbapt/HybridLocalDSPyRAG-ollama/venv/lib/python3.12/site-packages (from dspy>=2.6.5->dspy-ai) (2.2.1)\n",
      "Requirement already satisfied: joblib~=1.3 in /Users/jeanbapt/HybridLocalDSPyRAG-ollama/venv/lib/python3.12/site-packages (from dspy>=2.6.5->dspy-ai) (1.4.2)\n",
      "Requirement already satisfied: openai<=1.61.0,>=0.28.1 in /Users/jeanbapt/HybridLocalDSPyRAG-ollama/venv/lib/python3.12/site-packages (from dspy>=2.6.5->dspy-ai) (1.61.0)\n",
      "Requirement already satisfied: pandas>=2.1.1 in /Users/jeanbapt/HybridLocalDSPyRAG-ollama/venv/lib/python3.12/site-packages (from dspy>=2.6.5->dspy-ai) (2.2.3)\n",
      "Requirement already satisfied: regex>=2023.10.3 in /Users/jeanbapt/HybridLocalDSPyRAG-ollama/venv/lib/python3.12/site-packages (from dspy>=2.6.5->dspy-ai) (2024.11.6)\n",
      "Requirement already satisfied: ujson>=5.8.0 in /Users/jeanbapt/HybridLocalDSPyRAG-ollama/venv/lib/python3.12/site-packages (from dspy>=2.6.5->dspy-ai) (5.10.0)\n",
      "Requirement already satisfied: tqdm>=4.66.1 in /Users/jeanbapt/HybridLocalDSPyRAG-ollama/venv/lib/python3.12/site-packages (from dspy>=2.6.5->dspy-ai) (4.67.1)\n",
      "Requirement already satisfied: datasets>=2.14.6 in /Users/jeanbapt/HybridLocalDSPyRAG-ollama/venv/lib/python3.12/site-packages (from dspy>=2.6.5->dspy-ai) (3.5.0)\n",
      "Requirement already satisfied: requests>=2.31.0 in /Users/jeanbapt/HybridLocalDSPyRAG-ollama/venv/lib/python3.12/site-packages (from dspy>=2.6.5->dspy-ai) (2.32.3)\n",
      "Requirement already satisfied: optuna>=3.4.0 in /Users/jeanbapt/HybridLocalDSPyRAG-ollama/venv/lib/python3.12/site-packages (from dspy>=2.6.5->dspy-ai) (4.2.1)\n",
      "Requirement already satisfied: pydantic>=2.0 in /Users/jeanbapt/HybridLocalDSPyRAG-ollama/venv/lib/python3.12/site-packages (from dspy>=2.6.5->dspy-ai) (2.11.1)\n",
      "Requirement already satisfied: magicattr>=0.1.6 in /Users/jeanbapt/HybridLocalDSPyRAG-ollama/venv/lib/python3.12/site-packages (from dspy>=2.6.5->dspy-ai) (0.1.6)\n",
      "Requirement already satisfied: litellm>=1.60.3 in /Users/jeanbapt/HybridLocalDSPyRAG-ollama/venv/lib/python3.12/site-packages (from dspy>=2.6.5->dspy-ai) (1.63.7)\n",
      "Requirement already satisfied: diskcache>=5.6.0 in /Users/jeanbapt/HybridLocalDSPyRAG-ollama/venv/lib/python3.12/site-packages (from dspy>=2.6.5->dspy-ai) (5.6.3)\n",
      "Requirement already satisfied: json-repair>=0.30.0 in /Users/jeanbapt/HybridLocalDSPyRAG-ollama/venv/lib/python3.12/site-packages (from dspy>=2.6.5->dspy-ai) (0.40.0)\n",
      "Requirement already satisfied: tenacity>=8.2.3 in /Users/jeanbapt/HybridLocalDSPyRAG-ollama/venv/lib/python3.12/site-packages (from dspy>=2.6.5->dspy-ai) (9.0.0)\n",
      "Requirement already satisfied: anyio in /Users/jeanbapt/HybridLocalDSPyRAG-ollama/venv/lib/python3.12/site-packages (from dspy>=2.6.5->dspy-ai) (4.9.0)\n",
      "Requirement already satisfied: asyncer==0.0.8 in /Users/jeanbapt/HybridLocalDSPyRAG-ollama/venv/lib/python3.12/site-packages (from dspy>=2.6.5->dspy-ai) (0.0.8)\n",
      "Requirement already satisfied: cachetools>=5.5.0 in /Users/jeanbapt/HybridLocalDSPyRAG-ollama/venv/lib/python3.12/site-packages (from dspy>=2.6.5->dspy-ai) (5.5.2)\n",
      "Requirement already satisfied: cloudpickle>=3.0.0 in /Users/jeanbapt/HybridLocalDSPyRAG-ollama/venv/lib/python3.12/site-packages (from dspy>=2.6.5->dspy-ai) (3.1.1)\n",
      "Requirement already satisfied: rich>=13.7.1 in /Users/jeanbapt/HybridLocalDSPyRAG-ollama/venv/lib/python3.12/site-packages (from dspy>=2.6.5->dspy-ai) (14.0.0)\n",
      "Requirement already satisfied: numpy>=1.26.0 in /Users/jeanbapt/HybridLocalDSPyRAG-ollama/venv/lib/python3.12/site-packages (from dspy>=2.6.5->dspy-ai) (2.2.4)\n",
      "Requirement already satisfied: idna>=2.8 in /Users/jeanbapt/HybridLocalDSPyRAG-ollama/venv/lib/python3.12/site-packages (from anyio->dspy>=2.6.5->dspy-ai) (3.10)\n",
      "Requirement already satisfied: sniffio>=1.1 in /Users/jeanbapt/HybridLocalDSPyRAG-ollama/venv/lib/python3.12/site-packages (from anyio->dspy>=2.6.5->dspy-ai) (1.3.1)\n",
      "Requirement already satisfied: typing_extensions>=4.5 in /Users/jeanbapt/HybridLocalDSPyRAG-ollama/venv/lib/python3.12/site-packages (from anyio->dspy>=2.6.5->dspy-ai) (4.13.0)\n",
      "Requirement already satisfied: filelock in /Users/jeanbapt/HybridLocalDSPyRAG-ollama/venv/lib/python3.12/site-packages (from datasets>=2.14.6->dspy>=2.6.5->dspy-ai) (3.18.0)\n",
      "Requirement already satisfied: pyarrow>=15.0.0 in /Users/jeanbapt/HybridLocalDSPyRAG-ollama/venv/lib/python3.12/site-packages (from datasets>=2.14.6->dspy>=2.6.5->dspy-ai) (19.0.1)\n",
      "Requirement already satisfied: dill<0.3.9,>=0.3.0 in /Users/jeanbapt/HybridLocalDSPyRAG-ollama/venv/lib/python3.12/site-packages (from datasets>=2.14.6->dspy>=2.6.5->dspy-ai) (0.3.8)\n",
      "Requirement already satisfied: xxhash in /Users/jeanbapt/HybridLocalDSPyRAG-ollama/venv/lib/python3.12/site-packages (from datasets>=2.14.6->dspy>=2.6.5->dspy-ai) (3.5.0)\n",
      "Requirement already satisfied: multiprocess<0.70.17 in /Users/jeanbapt/HybridLocalDSPyRAG-ollama/venv/lib/python3.12/site-packages (from datasets>=2.14.6->dspy>=2.6.5->dspy-ai) (0.70.16)\n",
      "Requirement already satisfied: fsspec<=2024.12.0,>=2023.1.0 in /Users/jeanbapt/HybridLocalDSPyRAG-ollama/venv/lib/python3.12/site-packages (from fsspec[http]<=2024.12.0,>=2023.1.0->datasets>=2.14.6->dspy>=2.6.5->dspy-ai) (2024.12.0)\n",
      "Requirement already satisfied: aiohttp in /Users/jeanbapt/HybridLocalDSPyRAG-ollama/venv/lib/python3.12/site-packages (from datasets>=2.14.6->dspy>=2.6.5->dspy-ai) (3.11.15)\n",
      "Requirement already satisfied: huggingface-hub>=0.24.0 in /Users/jeanbapt/HybridLocalDSPyRAG-ollama/venv/lib/python3.12/site-packages (from datasets>=2.14.6->dspy>=2.6.5->dspy-ai) (0.30.1)\n",
      "Requirement already satisfied: packaging in /Users/jeanbapt/HybridLocalDSPyRAG-ollama/venv/lib/python3.12/site-packages (from datasets>=2.14.6->dspy>=2.6.5->dspy-ai) (24.2)\n",
      "Requirement already satisfied: pyyaml>=5.1 in /Users/jeanbapt/HybridLocalDSPyRAG-ollama/venv/lib/python3.12/site-packages (from datasets>=2.14.6->dspy>=2.6.5->dspy-ai) (6.0.2)\n",
      "Requirement already satisfied: click in /Users/jeanbapt/HybridLocalDSPyRAG-ollama/venv/lib/python3.12/site-packages (from litellm>=1.60.3->dspy>=2.6.5->dspy-ai) (8.1.8)\n",
      "Requirement already satisfied: httpx>=0.23.0 in /Users/jeanbapt/HybridLocalDSPyRAG-ollama/venv/lib/python3.12/site-packages (from litellm>=1.60.3->dspy>=2.6.5->dspy-ai) (0.28.1)\n",
      "Requirement already satisfied: importlib-metadata>=6.8.0 in /Users/jeanbapt/HybridLocalDSPyRAG-ollama/venv/lib/python3.12/site-packages (from litellm>=1.60.3->dspy>=2.6.5->dspy-ai) (8.6.1)\n",
      "Requirement already satisfied: jinja2<4.0.0,>=3.1.2 in /Users/jeanbapt/HybridLocalDSPyRAG-ollama/venv/lib/python3.12/site-packages (from litellm>=1.60.3->dspy>=2.6.5->dspy-ai) (3.1.6)\n",
      "Requirement already satisfied: jsonschema<5.0.0,>=4.22.0 in /Users/jeanbapt/HybridLocalDSPyRAG-ollama/venv/lib/python3.12/site-packages (from litellm>=1.60.3->dspy>=2.6.5->dspy-ai) (4.23.0)\n",
      "Requirement already satisfied: python-dotenv>=0.2.0 in /Users/jeanbapt/HybridLocalDSPyRAG-ollama/venv/lib/python3.12/site-packages (from litellm>=1.60.3->dspy>=2.6.5->dspy-ai) (1.1.0)\n",
      "Requirement already satisfied: tiktoken>=0.7.0 in /Users/jeanbapt/HybridLocalDSPyRAG-ollama/venv/lib/python3.12/site-packages (from litellm>=1.60.3->dspy>=2.6.5->dspy-ai) (0.9.0)\n",
      "Requirement already satisfied: tokenizers in /Users/jeanbapt/HybridLocalDSPyRAG-ollama/venv/lib/python3.12/site-packages (from litellm>=1.60.3->dspy>=2.6.5->dspy-ai) (0.21.1)\n",
      "Requirement already satisfied: distro<2,>=1.7.0 in /Users/jeanbapt/HybridLocalDSPyRAG-ollama/venv/lib/python3.12/site-packages (from openai<=1.61.0,>=0.28.1->dspy>=2.6.5->dspy-ai) (1.9.0)\n",
      "Requirement already satisfied: jiter<1,>=0.4.0 in /Users/jeanbapt/HybridLocalDSPyRAG-ollama/venv/lib/python3.12/site-packages (from openai<=1.61.0,>=0.28.1->dspy>=2.6.5->dspy-ai) (0.9.0)\n",
      "Requirement already satisfied: alembic>=1.5.0 in /Users/jeanbapt/HybridLocalDSPyRAG-ollama/venv/lib/python3.12/site-packages (from optuna>=3.4.0->dspy>=2.6.5->dspy-ai) (1.15.2)\n",
      "Requirement already satisfied: colorlog in /Users/jeanbapt/HybridLocalDSPyRAG-ollama/venv/lib/python3.12/site-packages (from optuna>=3.4.0->dspy>=2.6.5->dspy-ai) (6.9.0)\n",
      "Requirement already satisfied: sqlalchemy>=1.4.2 in /Users/jeanbapt/HybridLocalDSPyRAG-ollama/venv/lib/python3.12/site-packages (from optuna>=3.4.0->dspy>=2.6.5->dspy-ai) (2.0.40)\n",
      "Requirement already satisfied: python-dateutil>=2.8.2 in /Users/jeanbapt/HybridLocalDSPyRAG-ollama/venv/lib/python3.12/site-packages (from pandas>=2.1.1->dspy>=2.6.5->dspy-ai) (2.9.0.post0)\n",
      "Requirement already satisfied: pytz>=2020.1 in /Users/jeanbapt/HybridLocalDSPyRAG-ollama/venv/lib/python3.12/site-packages (from pandas>=2.1.1->dspy>=2.6.5->dspy-ai) (2025.2)\n",
      "Requirement already satisfied: tzdata>=2022.7 in /Users/jeanbapt/HybridLocalDSPyRAG-ollama/venv/lib/python3.12/site-packages (from pandas>=2.1.1->dspy>=2.6.5->dspy-ai) (2025.2)\n",
      "Requirement already satisfied: annotated-types>=0.6.0 in /Users/jeanbapt/HybridLocalDSPyRAG-ollama/venv/lib/python3.12/site-packages (from pydantic>=2.0->dspy>=2.6.5->dspy-ai) (0.7.0)\n",
      "Requirement already satisfied: pydantic-core==2.33.0 in /Users/jeanbapt/HybridLocalDSPyRAG-ollama/venv/lib/python3.12/site-packages (from pydantic>=2.0->dspy>=2.6.5->dspy-ai) (2.33.0)\n",
      "Requirement already satisfied: typing-inspection>=0.4.0 in /Users/jeanbapt/HybridLocalDSPyRAG-ollama/venv/lib/python3.12/site-packages (from pydantic>=2.0->dspy>=2.6.5->dspy-ai) (0.4.0)\n",
      "Requirement already satisfied: charset-normalizer<4,>=2 in /Users/jeanbapt/HybridLocalDSPyRAG-ollama/venv/lib/python3.12/site-packages (from requests>=2.31.0->dspy>=2.6.5->dspy-ai) (3.4.1)\n",
      "Requirement already satisfied: urllib3<3,>=1.21.1 in /Users/jeanbapt/HybridLocalDSPyRAG-ollama/venv/lib/python3.12/site-packages (from requests>=2.31.0->dspy>=2.6.5->dspy-ai) (2.3.0)\n",
      "Requirement already satisfied: certifi>=2017.4.17 in /Users/jeanbapt/HybridLocalDSPyRAG-ollama/venv/lib/python3.12/site-packages (from requests>=2.31.0->dspy>=2.6.5->dspy-ai) (2025.1.31)\n",
      "Requirement already satisfied: markdown-it-py>=2.2.0 in /Users/jeanbapt/HybridLocalDSPyRAG-ollama/venv/lib/python3.12/site-packages (from rich>=13.7.1->dspy>=2.6.5->dspy-ai) (3.0.0)\n",
      "Requirement already satisfied: pygments<3.0.0,>=2.13.0 in /Users/jeanbapt/HybridLocalDSPyRAG-ollama/venv/lib/python3.12/site-packages (from rich>=13.7.1->dspy>=2.6.5->dspy-ai) (2.19.1)\n",
      "Requirement already satisfied: Mako in /Users/jeanbapt/HybridLocalDSPyRAG-ollama/venv/lib/python3.12/site-packages (from alembic>=1.5.0->optuna>=3.4.0->dspy>=2.6.5->dspy-ai) (1.3.9)\n",
      "Requirement already satisfied: aiohappyeyeballs>=2.3.0 in /Users/jeanbapt/HybridLocalDSPyRAG-ollama/venv/lib/python3.12/site-packages (from aiohttp->datasets>=2.14.6->dspy>=2.6.5->dspy-ai) (2.6.1)\n",
      "Requirement already satisfied: aiosignal>=1.1.2 in /Users/jeanbapt/HybridLocalDSPyRAG-ollama/venv/lib/python3.12/site-packages (from aiohttp->datasets>=2.14.6->dspy>=2.6.5->dspy-ai) (1.3.2)\n",
      "Requirement already satisfied: attrs>=17.3.0 in /Users/jeanbapt/HybridLocalDSPyRAG-ollama/venv/lib/python3.12/site-packages (from aiohttp->datasets>=2.14.6->dspy>=2.6.5->dspy-ai) (25.3.0)\n",
      "Requirement already satisfied: frozenlist>=1.1.1 in /Users/jeanbapt/HybridLocalDSPyRAG-ollama/venv/lib/python3.12/site-packages (from aiohttp->datasets>=2.14.6->dspy>=2.6.5->dspy-ai) (1.5.0)\n",
      "Requirement already satisfied: multidict<7.0,>=4.5 in /Users/jeanbapt/HybridLocalDSPyRAG-ollama/venv/lib/python3.12/site-packages (from aiohttp->datasets>=2.14.6->dspy>=2.6.5->dspy-ai) (6.3.0)\n",
      "Requirement already satisfied: propcache>=0.2.0 in /Users/jeanbapt/HybridLocalDSPyRAG-ollama/venv/lib/python3.12/site-packages (from aiohttp->datasets>=2.14.6->dspy>=2.6.5->dspy-ai) (0.3.1)\n",
      "Requirement already satisfied: yarl<2.0,>=1.17.0 in /Users/jeanbapt/HybridLocalDSPyRAG-ollama/venv/lib/python3.12/site-packages (from aiohttp->datasets>=2.14.6->dspy>=2.6.5->dspy-ai) (1.18.3)\n",
      "Requirement already satisfied: httpcore==1.* in /Users/jeanbapt/HybridLocalDSPyRAG-ollama/venv/lib/python3.12/site-packages (from httpx>=0.23.0->litellm>=1.60.3->dspy>=2.6.5->dspy-ai) (1.0.7)\n",
      "Requirement already satisfied: h11<0.15,>=0.13 in /Users/jeanbapt/HybridLocalDSPyRAG-ollama/venv/lib/python3.12/site-packages (from httpcore==1.*->httpx>=0.23.0->litellm>=1.60.3->dspy>=2.6.5->dspy-ai) (0.14.0)\n",
      "Requirement already satisfied: zipp>=3.20 in /Users/jeanbapt/HybridLocalDSPyRAG-ollama/venv/lib/python3.12/site-packages (from importlib-metadata>=6.8.0->litellm>=1.60.3->dspy>=2.6.5->dspy-ai) (3.21.0)\n",
      "Requirement already satisfied: MarkupSafe>=2.0 in /Users/jeanbapt/HybridLocalDSPyRAG-ollama/venv/lib/python3.12/site-packages (from jinja2<4.0.0,>=3.1.2->litellm>=1.60.3->dspy>=2.6.5->dspy-ai) (3.0.2)\n",
      "Requirement already satisfied: jsonschema-specifications>=2023.03.6 in /Users/jeanbapt/HybridLocalDSPyRAG-ollama/venv/lib/python3.12/site-packages (from jsonschema<5.0.0,>=4.22.0->litellm>=1.60.3->dspy>=2.6.5->dspy-ai) (2024.10.1)\n",
      "Requirement already satisfied: referencing>=0.28.4 in /Users/jeanbapt/HybridLocalDSPyRAG-ollama/venv/lib/python3.12/site-packages (from jsonschema<5.0.0,>=4.22.0->litellm>=1.60.3->dspy>=2.6.5->dspy-ai) (0.36.2)\n",
      "Requirement already satisfied: rpds-py>=0.7.1 in /Users/jeanbapt/HybridLocalDSPyRAG-ollama/venv/lib/python3.12/site-packages (from jsonschema<5.0.0,>=4.22.0->litellm>=1.60.3->dspy>=2.6.5->dspy-ai) (0.24.0)\n",
      "Requirement already satisfied: mdurl~=0.1 in /Users/jeanbapt/HybridLocalDSPyRAG-ollama/venv/lib/python3.12/site-packages (from markdown-it-py>=2.2.0->rich>=13.7.1->dspy>=2.6.5->dspy-ai) (0.1.2)\n",
      "Requirement already satisfied: six>=1.5 in /Users/jeanbapt/HybridLocalDSPyRAG-ollama/venv/lib/python3.12/site-packages (from python-dateutil>=2.8.2->pandas>=2.1.1->dspy>=2.6.5->dspy-ai) (1.17.0)\n"
     ]
    },
    {
     "name": "stderr",
     "output_type": "stream",
     "text": [
      "[nltk_data] Downloading package punkt to /Users/jeanbapt/nltk_data...\n",
      "[nltk_data]   Package punkt is already up-to-date!\n"
     ]
    },
    {
     "data": {
      "text/plain": [
       "True"
      ]
     },
     "execution_count": 1,
     "metadata": {},
     "output_type": "execute_result"
    }
   ],
   "source": [
    "# 1. Install required libraries\n",
    "!pip install mlx mlx-torch\n",
    "!pip install transformers rank_bm25 nltk torch dspy-ai --quiet\n",
    "!pip install sentencepiece==0.1.99\n",
    "!pip install ollama\n",
    "!pip install --upgrade dspy-ai\n",
    "\n",
    "import nltk\n",
    "nltk.download('punkt')"
   ]
  },
  {
   "cell_type": "code",
   "execution_count": null,
   "id": "fec9ece9",
   "metadata": {},
   "outputs": [],
   "source": [
    "# 2. Load CamemBERT and tokenizer\n",
    "from transformers import CamembertTokenizer, CamembertModel\n",
    "import torch\n",
    "\n",
    "# Check for Metal support\n",
    "device = torch.device(\"mps\" if torch.backends.mps.is_available() else \"cpu\")\n",
    "print(f\"Using device: {device}\")\n",
    "\n",
    "tokenizer = CamembertTokenizer.from_pretrained(\"camembert/camembert-base\")\n",
    "model = CamembertModel.from_pretrained(\"camembert/camembert-base\")\n",
    "model = model.to(device)\n",
    "model.eval()"
   ]
  },
  {
   "cell_type": "code",
   "execution_count": 3,
   "id": "a0bc577d",
   "metadata": {},
   "outputs": [],
   "source": [
    "# 3. Sample French documents\n",
    "documents = [\n",
    "    \"Le changement climatique menace la biodiversité.\",\n",
    "    \"Les énergies renouvelables sont essentielles pour l'avenir.\",\n",
    "    \"L'intelligence artificielle transforme l'industrie.\",\n",
    "    \"La culture française est riche et diversifiée.\",\n",
    "    \"Les océans jouent un rôle crucial dans la régulation du climat.\"\n",
    "]"
   ]
  },
  {
   "cell_type": "code",
   "execution_count": 4,
   "id": "16814e8a",
   "metadata": {},
   "outputs": [
    {
     "name": "stderr",
     "output_type": "stream",
     "text": [
      "Asking to truncate to max_length but no maximum length is provided and the model has no predefined maximum length. Default to no truncation.\n"
     ]
    }
   ],
   "source": [
    "# 4. ColBERT-style encoder\n",
    "def encode(text):\n",
    "    inputs = tokenizer(text, return_tensors=\"pt\", truncation=True, padding=True)\n",
    "    inputs = {k: v.to(device) for k, v in inputs.items()}\n",
    "    with torch.no_grad():\n",
    "        outputs = model(**inputs)\n",
    "    return outputs.last_hidden_state.squeeze(0), inputs[\"attention_mask\"].squeeze(0)\n",
    "\n",
    "# Encode all documents\n",
    "colbert_index = [(doc, *encode(doc)) for doc in documents]"
   ]
  },
  {
   "cell_type": "code",
   "execution_count": 5,
   "id": "db7abe38",
   "metadata": {},
   "outputs": [],
   "source": [
    "# 5. BM25 Retriever\n",
    "from rank_bm25 import BM25Okapi\n",
    "from nltk.tokenize import word_tokenize\n",
    "\n",
    "tokenized_corpus = [word_tokenize(doc.lower()) for doc in documents]\n",
    "bm25 = BM25Okapi(tokenized_corpus)"
   ]
  },
  {
   "cell_type": "code",
   "execution_count": 6,
   "id": "5a3d7de5",
   "metadata": {},
   "outputs": [],
   "source": [
    "# 6. Hybrid Retriever\n",
    "import torch.nn.functional as F\n",
    "\n",
    "def colbert_score(query, k=3):\n",
    "    q_embed, q_mask = encode(query)\n",
    "    scores = []\n",
    "    for doc, d_embed, d_mask in colbert_index:\n",
    "        sim = torch.einsum('id,jd->ij', q_embed, d_embed)\n",
    "        maxsim = sim.max(dim=1).values\n",
    "        score = maxsim.mean().item()\n",
    "        scores.append((doc, score))\n",
    "    return sorted(scores, key=lambda x: -x[1])[:k]\n",
    "\n",
    "def bm25_score(query, k=3):\n",
    "    tokenized_query = word_tokenize(query.lower())\n",
    "    scores = bm25.get_scores(tokenized_query)\n",
    "    ranked = sorted(enumerate(scores), key=lambda x: -x[1])[:k]\n",
    "    return [(documents[i], scores[i]) for i, _ in ranked]\n",
    "\n",
    "def hybrid_score(query, alpha=0.5, k=3):\n",
    "    colbert_results = dict(colbert_score(query, k=10))\n",
    "    bm25_results = dict(bm25_score(query, k=10))\n",
    "    combined = {}\n",
    "    for doc in set(colbert_results) | set(bm25_results):\n",
    "        c = colbert_results.get(doc, 0)\n",
    "        b = bm25_results.get(doc, 0)\n",
    "        combined[doc] = alpha * c + (1 - alpha) * b\n",
    "    return sorted(combined.items(), key=lambda x: -x[1])[:k]"
   ]
  },
  {
   "cell_type": "code",
   "execution_count": 7,
   "id": "f96ca061",
   "metadata": {},
   "outputs": [
    {
     "name": "stdout",
     "output_type": "stream",
     "text": [
      "12.3794 - Les océans jouent un rôle crucial dans la régulation du climat.\n",
      "11.4298 - La culture française est riche et diversifiée.\n",
      "10.8376 - Les énergies renouvelables sont essentielles pour l'avenir.\n"
     ]
    }
   ],
   "source": [
    "# 7. Try a French query\n",
    "query = \"Quel est l'impact du climat sur la nature ?\"\n",
    "for doc, score in hybrid_score(query, alpha=0.6):\n",
    "    print(f\"{score:.4f} - {doc}\")"
   ]
  },
  {
   "cell_type": "markdown",
   "id": "4f6e03ed",
   "metadata": {},
   "source": [
    "# 8. DSPy Integration with Mistral via Ollama"
   ]
  },
  {
   "cell_type": "code",
   "execution_count": 8,
   "id": "4592b6a5",
   "metadata": {},
   "outputs": [],
   "source": [
    "# Wrap Mistral (Ollama) as DSPy LM\n",
    "import dspy\n",
    "import ollama\n",
    "import time\n",
    "\n",
    "class MistralOllamaLM(dspy.LM):\n",
    "    def __init__(self, max_retries=3, timeout=30):\n",
    "        super().__init__(model='mistral')\n",
    "        self.max_retries = max_retries\n",
    "        self.timeout = timeout\n",
    "        self.client = ollama.Client()\n",
    "\n",
    "    def __call__(self, prompt, **kwargs):\n",
    "        for attempt in range(self.max_retries):\n",
    "            try:\n",
    "                response = self.client.chat(\n",
    "                    model='mistral',\n",
    "                    messages=[{\"role\": \"user\", \"content\": prompt}],\n",
    "                    options={\"timeout\": self.timeout * 1000}\n",
    "                )\n",
    "                return response['message']['content']\n",
    "            except Exception as e:\n",
    "                if attempt == self.max_retries - 1:\n",
    "                    raise Exception(f\"Failed to get response from Ollama after {self.max_retries} attempts: {str(e)}\")\n",
    "                print(f\"Attempt {attempt + 1} failed, retrying...\")\n",
    "                time.sleep(1)\n",
    "\n",
    "lm = MistralOllamaLM()\n",
    "dspy.settings.configure(lm=lm)"
   ]
  },
  {
   "cell_type": "code",
   "execution_count": 9,
   "id": "df529404",
   "metadata": {},
   "outputs": [],
   "source": [
    "# DSPy Retriever wrapper using hybrid_score\n",
    "from dspy.retrieve import Retrieve\n",
    "\n",
    "class HybridDSPyRetriever(Retrieve):\n",
    "    def __init__(self, alpha=0.6, k=3):\n",
    "        super().__init__()\n",
    "        self.alpha = alpha\n",
    "        self.k = k\n",
    "\n",
    "    def retrieve(self, query, k=None):\n",
    "        results = hybrid_score(query, alpha=self.alpha, k=k or self.k)\n",
    "        return [dspy.Passage(text=doc, score=score) for doc, score in results]\n",
    "\n",
    "retriever = HybridDSPyRetriever()"
   ]
  },
  {
   "cell_type": "code",
   "execution_count": 10,
   "id": "59a32ea6",
   "metadata": {},
   "outputs": [
    {
     "name": "stdout",
     "output_type": "stream",
     "text": [
      "Question: Quel est l'impact du climat sur la nature ?\n",
      "Réponse:  Le changement de climat a un impact important sur la nature car il modifie les habitats, les cycles biologiques, les espèces végétales et animales et peut engendrer des disparitions d'espèces ou des migrations vers d'autres régions plus adaptées. Les océans, en particulier, jouent un rôle crucial dans ce contexte car ils absorbent une partie importante des gaz à effet de serre, régulent le climat et abritent la moitié de la biodiversité planétaire.\n"
     ]
    }
   ],
   "source": [
    "# DSPy Pipeline Implementation\n",
    "from dspy import Module, InputField, OutputField, Signature, Example\n",
    "\n",
    "class HybridRetriever(Module):\n",
    "    def __init__(self, hybrid_score_function, alpha=0.6, k=3):\n",
    "        super().__init__()\n",
    "        self.hybrid_score_function = hybrid_score_function\n",
    "        self.alpha = alpha\n",
    "        self.k = k\n",
    "\n",
    "    def forward(self, query):\n",
    "        results = self.hybrid_score_function(query, alpha=self.alpha, k=self.k)\n",
    "        return results\n",
    "\n",
    "class FrenchQAPipeline(Module):\n",
    "    def __init__(self, retriever):\n",
    "        super().__init__()\n",
    "        self.retriever = retriever\n",
    "        \n",
    "    def forward(self, question):\n",
    "        # Retrieve relevant passages\n",
    "        passages = self.retriever(question)\n",
    "        \n",
    "        # Format context from passages\n",
    "        context = \"\\n\".join([doc for doc, _ in passages])\n",
    "        \n",
    "        # Create prompt for Mistral\n",
    "        prompt = f\"\"\"Contexte:\n",
    "{context}\n",
    "\n",
    "Question: {question}\n",
    "\n",
    "Réponse:\"\"\"\n",
    "        \n",
    "        # Get answer from Mistral\n",
    "        response = lm(prompt)\n",
    "        return response\n",
    "\n",
    "# Initialize the pipeline\n",
    "retriever = HybridRetriever(hybrid_score_function=hybrid_score)\n",
    "qa_pipeline = FrenchQAPipeline(retriever)\n",
    "\n",
    "# Test the pipeline\n",
    "question = \"Quel est l'impact du climat sur la nature ?\"\n",
    "answer = qa_pipeline(question)\n",
    "print(f\"Question: {question}\\nRéponse: {answer}\")"
   ]
  }
 ],
 "metadata": {
  "kernelspec": {
   "display_name": "venv",
   "language": "python",
   "name": "python3"
  },
  "language_info": {
   "codemirror_mode": {
    "name": "ipython",
    "version": 3
   },
   "file_extension": ".py",
   "mimetype": "text/x-python",
   "name": "python",
   "nbconvert_exporter": "python",
   "pygments_lexer": "ipython3",
   "version": "3.12.9"
  }
 },
 "nbformat": 4,
 "nbformat_minor": 5
}
